{
 "cells": [
  {
   "cell_type": "code",
   "execution_count": null,
   "id": "2e9c67e0",
   "metadata": {},
   "outputs": [
    {
     "name": "stdout",
     "output_type": "stream",
     "text": [
      "LLM Created!\n",
      "Write a summary about Football.\n"
     ]
    },
    {
     "ename": "",
     "evalue": "",
     "output_type": "error",
     "traceback": [
      "\u001b[1;31mThe Kernel crashed while executing code in the current cell or a previous cell. \n",
      "\u001b[1;31mPlease review the code in the cell(s) to identify a possible cause of the failure. \n",
      "\u001b[1;31mClick <a href='https://aka.ms/vscodeJupyterKernelCrash'>here</a> for more info. \n",
      "\u001b[1;31mView Jupyter <a href='command:jupyter.viewOutput'>log</a> for further details."
     ]
    }
   ],
   "source": [
    "class LLM:\n",
    "    def __init__ (self):\n",
    "        print ('LLM Created!')\n",
    "\n",
    "class PromptTemplate:\n",
    "    def __init__ (self, template, input_variables):\n",
    "        ## print (\"Prompt Generated\")\n",
    "        self.template = template\n",
    "        self.input_variables = input_variables\n",
    "    \n",
    "    def format (self, input_dict):\n",
    "        return self.template.format(**input_dict)\n",
    "\n",
    "llm = LLM()\n",
    "\n",
    "prompt = PromptTemplate(\n",
    "    template = 'Write a summary about {topic}.',\n",
    "    input_variables = ['topic']\n",
    ")\n",
    "\n",
    "print (prompt.format({'topic' : 'Football'}))"
   ]
  },
  {
   "cell_type": "code",
   "execution_count": null,
   "id": "a52b4354",
   "metadata": {},
   "outputs": [],
   "source": [
    "## Output of one component should act as Input to another component"
   ]
  }
 ],
 "metadata": {
  "kernelspec": {
   "display_name": "venv",
   "language": "python",
   "name": "python3"
  },
  "language_info": {
   "codemirror_mode": {
    "name": "ipython",
    "version": 3
   },
   "file_extension": ".py",
   "mimetype": "text/x-python",
   "name": "python",
   "nbconvert_exporter": "python",
   "pygments_lexer": "ipython3",
   "version": "3.12.11"
  }
 },
 "nbformat": 4,
 "nbformat_minor": 5
}

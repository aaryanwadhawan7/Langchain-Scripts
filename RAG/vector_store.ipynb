{
 "cells": [
  {
   "cell_type": "code",
   "execution_count": null,
   "id": "db74fce4",
   "metadata": {},
   "outputs": [],
   "source": [
    "%pip install langchain chromadb openai tiktoken pypdf langchain_openai langchain-community"
   ]
  },
  {
   "cell_type": "code",
   "execution_count": null,
   "id": "c315d566",
   "metadata": {},
   "outputs": [],
   "source": [
    "%pip install sentence-transformers\n",
    "%pip install -U torch==2.2.1 transformers==4.40.2 sentence-transformers==3.0.1"
   ]
  },
  {
   "cell_type": "code",
   "execution_count": null,
   "id": "3ab721e4",
   "metadata": {},
   "outputs": [],
   "source": [
    "from langchain_huggingface import HuggingFaceEmbeddings\n",
    "from langchain.vectorstores import Chroma\n",
    "from langchain.schema import Document\n",
    "from dotenv import load_dotenv\n",
    "\n",
    "load_dotenv ()\n",
    "\n",
    "docs1 = Document(\n",
    "    page_content = \"Cristiano Ronadlo is one the greatest football player of all time who has scored most no. of professional goal in thw world.\",\n",
    "    metadata = {'team' : 'Al Nassr'}\n",
    ")\n",
    "\n",
    "docs2 = Document(\n",
    "    page_content = \"O. Dembele has won the 2025 ballan dor\",\n",
    "    metadata = {'team' : 'PSG'}\n",
    ")\n",
    "\n",
    "docs3 = Document(\n",
    "    page_content = 'Lionel Messi was part of Argentina 2022 world cup squad.',\n",
    "    metadata = {'team' : 'Inter Miami'}\n",
    ")\n",
    "\n",
    "docs = [docs1, docs2, docs3]\n",
    "\n",
    "vector_store = Chroma(\n",
    "    embedding_function = HuggingFaceEmbeddings(model = 'all-MiniLM-L6-v2'),\n",
    "    persist_directory = 'my_chroma_db',\n",
    "    collection_name = 'sample_embedding'\n",
    ")\n",
    "\n",
    "vector_store.add_documents(docs)"
   ]
  },
  {
   "cell_type": "code",
   "execution_count": null,
   "id": "1e0f4e76",
   "metadata": {},
   "outputs": [],
   "source": [
    "vector_store.get(include = ['embeddings', 'documents', 'metadatas'])"
   ]
  },
  {
   "cell_type": "code",
   "execution_count": null,
   "id": "069f0657",
   "metadata": {},
   "outputs": [],
   "source": [
    "vector_store.similarity_search(\n",
    "    query = 'Who won the 2025 world cup?',\n",
    "    k = 1\n",
    ")"
   ]
  },
  {
   "cell_type": "code",
   "execution_count": null,
   "id": "5988efe9",
   "metadata": {},
   "outputs": [],
   "source": [
    "vector_store.similarity_search_with_score(\n",
    "    query = 'Which team won the 2025 FIFA world cup?',\n",
    "    k = 1\n",
    ")"
   ]
  },
  {
   "cell_type": "code",
   "execution_count": null,
   "id": "f9b0de2f",
   "metadata": {},
   "outputs": [],
   "source": [
    "vector_store.similarity_search_with_score(\n",
    "    query = '',\n",
    "    filter = {'team' : 'PSG'}\n",
    ")"
   ]
  },
  {
   "cell_type": "markdown",
   "id": "db1f0a07",
   "metadata": {},
   "source": [
    "``` python\n",
    "updated_document = Document(\n",
    "    page_content = 'Portugal is the strongest team rn',\n",
    "    metadata = {'team' : 'Portugal'}\n",
    ")\n",
    "vector_store.update_document(document_id = <id>, document = updated_document)\n",
    "```\n",
    "\n",
    "<br>\n",
    "\n",
    "``` python \n",
    "vector_store.delete(ids=[<id>])\n",
    "```"
   ]
  }
 ],
 "metadata": {
  "kernelspec": {
   "display_name": "venv",
   "language": "python",
   "name": "python3"
  },
  "language_info": {
   "codemirror_mode": {
    "name": "ipython",
    "version": 3
   },
   "file_extension": ".py",
   "mimetype": "text/x-python",
   "name": "python",
   "nbconvert_exporter": "python",
   "pygments_lexer": "ipython3",
   "version": "3.12.11"
  }
 },
 "nbformat": 4,
 "nbformat_minor": 5
}
